{
  "nbformat": 4,
  "nbformat_minor": 0,
  "metadata": {
    "colab": {
      "provenance": [],
      "authorship_tag": "ABX9TyPNm78KuJIbgeNUHgNvZ02a",
      "include_colab_link": true
    },
    "kernelspec": {
      "name": "python3",
      "display_name": "Python 3"
    },
    "language_info": {
      "name": "python"
    }
  },
  "cells": [
    {
      "cell_type": "markdown",
      "metadata": {
        "id": "view-in-github",
        "colab_type": "text"
      },
      "source": [
        "<a href=\"https://colab.research.google.com/github/Manokrn/git_demo/blob/main/LoanPrediction.ipynb\" target=\"_parent\"><img src=\"https://colab.research.google.com/assets/colab-badge.svg\" alt=\"Open In Colab\"/></a>"
      ]
    },
    {
      "cell_type": "code",
      "execution_count": 19,
      "metadata": {
        "colab": {
          "base_uri": "https://localhost:8080/"
        },
        "id": "7ISr5S94m6B8",
        "outputId": "b59f07e6-b566-45b8-f31f-b8da556caf7a"
      },
      "outputs": [
        {
          "output_type": "stream",
          "name": "stdout",
          "text": [
            "   Gender_Female  Gender_Male  City_Chicago  City_Los Angeles  City_New York  \\\n",
            "0          False         True         False             False           True   \n",
            "1           True        False          True             False          False   \n",
            "2          False         True          True             False          False   \n",
            "3           True        False         False              True          False   \n",
            "\n",
            "   Marital Status_Divorced  Marital Status_Married  Marital Status_Single  \n",
            "0                    False                   False                   True  \n",
            "1                    False                    True                  False  \n",
            "2                    False                   False                   True  \n",
            "3                     True                   False                  False  \n"
          ]
        }
      ],
      "source": [
        "import pandas as pd\n",
        "import numpy as np\n",
        "import seaborn as sns\n",
        "\n",
        "data = {\n",
        "    'Gender': ['Male', 'Female', 'Male', 'Female'],\n",
        "    'City': ['New York', 'Chicago', 'Chicago', 'Los Angeles'],\n",
        "    'Marital Status': ['Single', 'Married', 'Single', 'Divorced']}\n",
        "\n",
        "df=pd.DataFrame(data)\n",
        "encoded_df = pd.get_dummies(df)\n",
        "print(encoded_df)\n"
      ]
    },
    {
      "cell_type": "code",
      "source": [
        "import pandas as pd\n",
        "import category_encoders as ce\n",
        "from sklearn.preprocessing import LabelEncoder\n",
        "\n",
        "data={'Gender': ['Male', 'Female', 'Female', 'Male']}\n",
        "le=LabelEncoder()\n",
        "df['gender_encoder']=le.fit_transform(df['Gender'])\n",
        "print(df)\n"
      ],
      "metadata": {
        "colab": {
          "base_uri": "https://localhost:8080/"
        },
        "id": "mxGBVwpvzooX",
        "outputId": "14a01bbe-202e-4be6-b82f-ee72cfa59938"
      },
      "execution_count": 27,
      "outputs": [
        {
          "output_type": "stream",
          "name": "stdout",
          "text": [
            "          City  Gender  gender_encoder\n",
            "0     New York    Male               1\n",
            "1      Chicago  Female               0\n",
            "2  Los Angeles  Female               0\n",
            "3      Chicago    Male               1\n"
          ]
        }
      ]
    }
  ]
}